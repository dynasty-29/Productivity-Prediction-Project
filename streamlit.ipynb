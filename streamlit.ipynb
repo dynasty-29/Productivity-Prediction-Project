{
  "nbformat": 4,
  "nbformat_minor": 0,
  "metadata": {
    "colab": {
      "name": "streamlit.ipynb",
      "provenance": [],
      "authorship_tag": "ABX9TyPDJ13tmLzdJsVccMkVnHxg",
      "include_colab_link": true
    },
    "kernelspec": {
      "name": "python3",
      "display_name": "Python 3"
    },
    "language_info": {
      "name": "python"
    }
  },
  "cells": [
    {
      "cell_type": "markdown",
      "metadata": {
        "id": "view-in-github",
        "colab_type": "text"
      },
      "source": [
        "<a href=\"https://colab.research.google.com/github/dynasty-29/Productivity-Prediction-Project/blob/main/streamlit.ipynb\" target=\"_parent\"><img src=\"https://colab.research.google.com/assets/colab-badge.svg\" alt=\"Open In Colab\"/></a>"
      ]
    },
    {
      "cell_type": "code",
      "source": [
        "!pip install streamlit\n",
        "!pip uninstall PIL\n",
        "!pip uninstall Pillow\n",
        "!pip install Pillow\n",
        "!pip install -q pyngrok\n",
        "!pip install -q streamlit_ace"
      ],
      "metadata": {
        "colab": {
          "base_uri": "https://localhost:8080/",
          "height": 1000
        },
        "id": "vPMOangqNDFN",
        "outputId": "b612d930-9841-4bc2-adcd-53043457ade0"
      },
      "execution_count": 1,
      "outputs": [
        {
          "output_type": "stream",
          "name": "stdout",
          "text": [
            "Looking in indexes: https://pypi.org/simple, https://us-python.pkg.dev/colab-wheels/public/simple/\n",
            "Collecting streamlit\n",
            "  Downloading streamlit-1.12.2-py2.py3-none-any.whl (9.1 MB)\n",
            "\u001b[K     |████████████████████████████████| 9.1 MB 9.1 MB/s \n",
            "\u001b[?25hCollecting validators>=0.2\n",
            "  Downloading validators-0.20.0.tar.gz (30 kB)\n",
            "Requirement already satisfied: protobuf<4,>=3.12 in /usr/local/lib/python3.7/dist-packages (from streamlit) (3.17.3)\n",
            "Requirement already satisfied: pillow>=6.2.0 in /usr/local/lib/python3.7/dist-packages (from streamlit) (7.1.2)\n",
            "Requirement already satisfied: semver in /usr/local/lib/python3.7/dist-packages (from streamlit) (2.13.0)\n",
            "Requirement already satisfied: pandas>=0.21.0 in /usr/local/lib/python3.7/dist-packages (from streamlit) (1.3.5)\n",
            "Requirement already satisfied: python-dateutil in /usr/local/lib/python3.7/dist-packages (from streamlit) (2.8.2)\n",
            "Requirement already satisfied: toml in /usr/local/lib/python3.7/dist-packages (from streamlit) (0.10.2)\n",
            "Requirement already satisfied: importlib-metadata>=1.4 in /usr/local/lib/python3.7/dist-packages (from streamlit) (4.12.0)\n",
            "Collecting watchdog\n",
            "  Downloading watchdog-2.1.9-py3-none-manylinux2014_x86_64.whl (78 kB)\n",
            "\u001b[K     |████████████████████████████████| 78 kB 6.1 MB/s \n",
            "\u001b[?25hRequirement already satisfied: tzlocal>=1.1 in /usr/local/lib/python3.7/dist-packages (from streamlit) (1.5.1)\n",
            "Requirement already satisfied: tornado>=5.0 in /usr/local/lib/python3.7/dist-packages (from streamlit) (5.1.1)\n",
            "Requirement already satisfied: pyarrow>=4.0 in /usr/local/lib/python3.7/dist-packages (from streamlit) (6.0.1)\n",
            "Requirement already satisfied: numpy in /usr/local/lib/python3.7/dist-packages (from streamlit) (1.21.6)\n",
            "Requirement already satisfied: packaging>=14.1 in /usr/local/lib/python3.7/dist-packages (from streamlit) (21.3)\n",
            "Collecting pympler>=0.9\n",
            "  Downloading Pympler-1.0.1-py3-none-any.whl (164 kB)\n",
            "\u001b[K     |████████████████████████████████| 164 kB 75.1 MB/s \n",
            "\u001b[?25hRequirement already satisfied: requests>=2.4 in /usr/local/lib/python3.7/dist-packages (from streamlit) (2.23.0)\n",
            "Requirement already satisfied: cachetools>=4.0 in /usr/local/lib/python3.7/dist-packages (from streamlit) (4.2.4)\n",
            "Collecting pydeck>=0.1.dev5\n",
            "  Downloading pydeck-0.8.0b1-py2.py3-none-any.whl (4.7 MB)\n",
            "\u001b[K     |████████████████████████████████| 4.7 MB 44.4 MB/s \n",
            "\u001b[?25hRequirement already satisfied: altair>=3.2.0 in /usr/local/lib/python3.7/dist-packages (from streamlit) (4.2.0)\n",
            "Requirement already satisfied: typing-extensions>=3.10.0.0 in /usr/local/lib/python3.7/dist-packages (from streamlit) (4.1.1)\n",
            "Requirement already satisfied: click>=7.0 in /usr/local/lib/python3.7/dist-packages (from streamlit) (7.1.2)\n",
            "Collecting blinker>=1.0.0\n",
            "  Downloading blinker-1.5-py2.py3-none-any.whl (12 kB)\n",
            "Collecting rich>=10.11.0\n",
            "  Downloading rich-12.5.1-py3-none-any.whl (235 kB)\n",
            "\u001b[K     |████████████████████████████████| 235 kB 60.8 MB/s \n",
            "\u001b[?25hCollecting gitpython!=3.1.19\n",
            "  Downloading GitPython-3.1.27-py3-none-any.whl (181 kB)\n",
            "\u001b[K     |████████████████████████████████| 181 kB 36.4 MB/s \n",
            "\u001b[?25hRequirement already satisfied: entrypoints in /usr/local/lib/python3.7/dist-packages (from altair>=3.2.0->streamlit) (0.4)\n",
            "Requirement already satisfied: toolz in /usr/local/lib/python3.7/dist-packages (from altair>=3.2.0->streamlit) (0.12.0)\n",
            "Requirement already satisfied: jsonschema>=3.0 in /usr/local/lib/python3.7/dist-packages (from altair>=3.2.0->streamlit) (4.3.3)\n",
            "Requirement already satisfied: jinja2 in /usr/local/lib/python3.7/dist-packages (from altair>=3.2.0->streamlit) (2.11.3)\n",
            "Collecting gitdb<5,>=4.0.1\n",
            "  Downloading gitdb-4.0.9-py3-none-any.whl (63 kB)\n",
            "\u001b[K     |████████████████████████████████| 63 kB 1.8 MB/s \n",
            "\u001b[?25hCollecting smmap<6,>=3.0.1\n",
            "  Downloading smmap-5.0.0-py3-none-any.whl (24 kB)\n",
            "Requirement already satisfied: zipp>=0.5 in /usr/local/lib/python3.7/dist-packages (from importlib-metadata>=1.4->streamlit) (3.8.1)\n",
            "Requirement already satisfied: importlib-resources>=1.4.0 in /usr/local/lib/python3.7/dist-packages (from jsonschema>=3.0->altair>=3.2.0->streamlit) (5.9.0)\n",
            "Requirement already satisfied: pyrsistent!=0.17.0,!=0.17.1,!=0.17.2,>=0.14.0 in /usr/local/lib/python3.7/dist-packages (from jsonschema>=3.0->altair>=3.2.0->streamlit) (0.18.1)\n",
            "Requirement already satisfied: attrs>=17.4.0 in /usr/local/lib/python3.7/dist-packages (from jsonschema>=3.0->altair>=3.2.0->streamlit) (22.1.0)\n",
            "Requirement already satisfied: pyparsing!=3.0.5,>=2.0.2 in /usr/local/lib/python3.7/dist-packages (from packaging>=14.1->streamlit) (3.0.9)\n",
            "Requirement already satisfied: pytz>=2017.3 in /usr/local/lib/python3.7/dist-packages (from pandas>=0.21.0->streamlit) (2022.2.1)\n",
            "Requirement already satisfied: six>=1.9 in /usr/local/lib/python3.7/dist-packages (from protobuf<4,>=3.12->streamlit) (1.15.0)\n",
            "Requirement already satisfied: MarkupSafe>=0.23 in /usr/local/lib/python3.7/dist-packages (from jinja2->altair>=3.2.0->streamlit) (2.0.1)\n",
            "Requirement already satisfied: urllib3!=1.25.0,!=1.25.1,<1.26,>=1.21.1 in /usr/local/lib/python3.7/dist-packages (from requests>=2.4->streamlit) (1.24.3)\n",
            "Requirement already satisfied: idna<3,>=2.5 in /usr/local/lib/python3.7/dist-packages (from requests>=2.4->streamlit) (2.10)\n",
            "Requirement already satisfied: certifi>=2017.4.17 in /usr/local/lib/python3.7/dist-packages (from requests>=2.4->streamlit) (2022.6.15)\n",
            "Requirement already satisfied: chardet<4,>=3.0.2 in /usr/local/lib/python3.7/dist-packages (from requests>=2.4->streamlit) (3.0.4)\n",
            "Collecting commonmark<0.10.0,>=0.9.0\n",
            "  Downloading commonmark-0.9.1-py2.py3-none-any.whl (51 kB)\n",
            "\u001b[K     |████████████████████████████████| 51 kB 6.9 MB/s \n",
            "\u001b[?25hRequirement already satisfied: pygments<3.0.0,>=2.6.0 in /usr/local/lib/python3.7/dist-packages (from rich>=10.11.0->streamlit) (2.6.1)\n",
            "Requirement already satisfied: decorator>=3.4.0 in /usr/local/lib/python3.7/dist-packages (from validators>=0.2->streamlit) (4.4.2)\n",
            "Building wheels for collected packages: validators\n",
            "  Building wheel for validators (setup.py) ... \u001b[?25l\u001b[?25hdone\n",
            "  Created wheel for validators: filename=validators-0.20.0-py3-none-any.whl size=19582 sha256=ac43497388d49edb1d449c560fcb3dc023a370d0d852ca69dc7aae53c6847aea\n",
            "  Stored in directory: /root/.cache/pip/wheels/5f/55/ab/36a76989f7f88d9ca7b1f68da6d94252bb6a8d6ad4f18e04e9\n",
            "Successfully built validators\n",
            "Installing collected packages: smmap, gitdb, commonmark, watchdog, validators, rich, pympler, pydeck, gitpython, blinker, streamlit\n",
            "Successfully installed blinker-1.5 commonmark-0.9.1 gitdb-4.0.9 gitpython-3.1.27 pydeck-0.8.0b1 pympler-1.0.1 rich-12.5.1 smmap-5.0.0 streamlit-1.12.2 validators-0.20.0 watchdog-2.1.9\n",
            "\u001b[33mWARNING: Skipping PIL as it is not installed.\u001b[0m\n",
            "Found existing installation: Pillow 7.1.2\n",
            "Uninstalling Pillow-7.1.2:\n",
            "  Would remove:\n",
            "    /usr/local/lib/python3.7/dist-packages/PIL/*\n",
            "    /usr/local/lib/python3.7/dist-packages/Pillow-7.1.2.dist-info/*\n",
            "    /usr/local/lib/python3.7/dist-packages/Pillow.libs/libfreetype-69f25d5e.so.6.17.1\n",
            "    /usr/local/lib/python3.7/dist-packages/Pillow.libs/libjpeg-ba7bf5af.so.9.4.0\n",
            "    /usr/local/lib/python3.7/dist-packages/Pillow.libs/liblcms2-a6801db4.so.2.0.8\n",
            "    /usr/local/lib/python3.7/dist-packages/Pillow.libs/liblzma-99449165.so.5.2.5\n",
            "    /usr/local/lib/python3.7/dist-packages/Pillow.libs/libopenjp2-b3d7668a.so.2.3.1\n",
            "    /usr/local/lib/python3.7/dist-packages/Pillow.libs/libpng16-bedcb7ea.so.16.37.0\n",
            "    /usr/local/lib/python3.7/dist-packages/Pillow.libs/libtiff-41910f6d.so.5.5.0\n",
            "    /usr/local/lib/python3.7/dist-packages/Pillow.libs/libwebp-122bd20b.so.7.1.0\n",
            "    /usr/local/lib/python3.7/dist-packages/Pillow.libs/libwebpdemux-2db559e5.so.2.0.6\n",
            "    /usr/local/lib/python3.7/dist-packages/Pillow.libs/libwebpmux-ec1d5c76.so.3.0.5\n",
            "    /usr/local/lib/python3.7/dist-packages/Pillow.libs/libz-a147dcb0.so.1.2.3\n",
            "Proceed (y/n)? y\n",
            "  Successfully uninstalled Pillow-7.1.2\n",
            "Looking in indexes: https://pypi.org/simple, https://us-python.pkg.dev/colab-wheels/public/simple/\n",
            "Collecting Pillow\n",
            "  Downloading Pillow-9.2.0-cp37-cp37m-manylinux_2_17_x86_64.manylinux2014_x86_64.whl (3.1 MB)\n",
            "\u001b[K     |████████████████████████████████| 3.1 MB 9.1 MB/s \n",
            "\u001b[?25hInstalling collected packages: Pillow\n",
            "Successfully installed Pillow-9.2.0\n"
          ]
        },
        {
          "output_type": "display_data",
          "data": {
            "application/vnd.colab-display-data+json": {
              "pip_warning": {
                "packages": [
                  "PIL"
                ]
              }
            }
          },
          "metadata": {}
        },
        {
          "output_type": "stream",
          "name": "stdout",
          "text": [
            "\u001b[?25l\r\u001b[K     |▍                               | 10 kB 19.6 MB/s eta 0:00:01\r\u001b[K     |▉                               | 20 kB 10.4 MB/s eta 0:00:01\r\u001b[K     |█▎                              | 30 kB 14.4 MB/s eta 0:00:01\r\u001b[K     |█▊                              | 40 kB 6.5 MB/s eta 0:00:01\r\u001b[K     |██▏                             | 51 kB 7.2 MB/s eta 0:00:01\r\u001b[K     |██▋                             | 61 kB 8.4 MB/s eta 0:00:01\r\u001b[K     |███                             | 71 kB 7.6 MB/s eta 0:00:01\r\u001b[K     |███▌                            | 81 kB 6.0 MB/s eta 0:00:01\r\u001b[K     |████                            | 92 kB 6.6 MB/s eta 0:00:01\r\u001b[K     |████▍                           | 102 kB 7.3 MB/s eta 0:00:01\r\u001b[K     |████▉                           | 112 kB 7.3 MB/s eta 0:00:01\r\u001b[K     |█████▎                          | 122 kB 7.3 MB/s eta 0:00:01\r\u001b[K     |█████▊                          | 133 kB 7.3 MB/s eta 0:00:01\r\u001b[K     |██████▏                         | 143 kB 7.3 MB/s eta 0:00:01\r\u001b[K     |██████▋                         | 153 kB 7.3 MB/s eta 0:00:01\r\u001b[K     |███████                         | 163 kB 7.3 MB/s eta 0:00:01\r\u001b[K     |███████▌                        | 174 kB 7.3 MB/s eta 0:00:01\r\u001b[K     |████████                        | 184 kB 7.3 MB/s eta 0:00:01\r\u001b[K     |████████▍                       | 194 kB 7.3 MB/s eta 0:00:01\r\u001b[K     |████████▉                       | 204 kB 7.3 MB/s eta 0:00:01\r\u001b[K     |█████████▎                      | 215 kB 7.3 MB/s eta 0:00:01\r\u001b[K     |█████████▊                      | 225 kB 7.3 MB/s eta 0:00:01\r\u001b[K     |██████████▏                     | 235 kB 7.3 MB/s eta 0:00:01\r\u001b[K     |██████████▌                     | 245 kB 7.3 MB/s eta 0:00:01\r\u001b[K     |███████████                     | 256 kB 7.3 MB/s eta 0:00:01\r\u001b[K     |███████████▍                    | 266 kB 7.3 MB/s eta 0:00:01\r\u001b[K     |███████████▉                    | 276 kB 7.3 MB/s eta 0:00:01\r\u001b[K     |████████████▎                   | 286 kB 7.3 MB/s eta 0:00:01\r\u001b[K     |████████████▊                   | 296 kB 7.3 MB/s eta 0:00:01\r\u001b[K     |█████████████▏                  | 307 kB 7.3 MB/s eta 0:00:01\r\u001b[K     |█████████████▋                  | 317 kB 7.3 MB/s eta 0:00:01\r\u001b[K     |██████████████                  | 327 kB 7.3 MB/s eta 0:00:01\r\u001b[K     |██████████████▌                 | 337 kB 7.3 MB/s eta 0:00:01\r\u001b[K     |███████████████                 | 348 kB 7.3 MB/s eta 0:00:01\r\u001b[K     |███████████████▍                | 358 kB 7.3 MB/s eta 0:00:01\r\u001b[K     |███████████████▉                | 368 kB 7.3 MB/s eta 0:00:01\r\u001b[K     |████████████████▎               | 378 kB 7.3 MB/s eta 0:00:01\r\u001b[K     |████████████████▊               | 389 kB 7.3 MB/s eta 0:00:01\r\u001b[K     |█████████████████▏              | 399 kB 7.3 MB/s eta 0:00:01\r\u001b[K     |█████████████████▋              | 409 kB 7.3 MB/s eta 0:00:01\r\u001b[K     |██████████████████              | 419 kB 7.3 MB/s eta 0:00:01\r\u001b[K     |██████████████████▌             | 430 kB 7.3 MB/s eta 0:00:01\r\u001b[K     |███████████████████             | 440 kB 7.3 MB/s eta 0:00:01\r\u001b[K     |███████████████████▍            | 450 kB 7.3 MB/s eta 0:00:01\r\u001b[K     |███████████████████▉            | 460 kB 7.3 MB/s eta 0:00:01\r\u001b[K     |████████████████████▎           | 471 kB 7.3 MB/s eta 0:00:01\r\u001b[K     |████████████████████▋           | 481 kB 7.3 MB/s eta 0:00:01\r\u001b[K     |█████████████████████           | 491 kB 7.3 MB/s eta 0:00:01\r\u001b[K     |█████████████████████▌          | 501 kB 7.3 MB/s eta 0:00:01\r\u001b[K     |██████████████████████          | 512 kB 7.3 MB/s eta 0:00:01\r\u001b[K     |██████████████████████▍         | 522 kB 7.3 MB/s eta 0:00:01\r\u001b[K     |██████████████████████▉         | 532 kB 7.3 MB/s eta 0:00:01\r\u001b[K     |███████████████████████▎        | 542 kB 7.3 MB/s eta 0:00:01\r\u001b[K     |███████████████████████▊        | 552 kB 7.3 MB/s eta 0:00:01\r\u001b[K     |████████████████████████▏       | 563 kB 7.3 MB/s eta 0:00:01\r\u001b[K     |████████████████████████▋       | 573 kB 7.3 MB/s eta 0:00:01\r\u001b[K     |█████████████████████████       | 583 kB 7.3 MB/s eta 0:00:01\r\u001b[K     |█████████████████████████▌      | 593 kB 7.3 MB/s eta 0:00:01\r\u001b[K     |██████████████████████████      | 604 kB 7.3 MB/s eta 0:00:01\r\u001b[K     |██████████████████████████▍     | 614 kB 7.3 MB/s eta 0:00:01\r\u001b[K     |██████████████████████████▉     | 624 kB 7.3 MB/s eta 0:00:01\r\u001b[K     |███████████████████████████▎    | 634 kB 7.3 MB/s eta 0:00:01\r\u001b[K     |███████████████████████████▊    | 645 kB 7.3 MB/s eta 0:00:01\r\u001b[K     |████████████████████████████▏   | 655 kB 7.3 MB/s eta 0:00:01\r\u001b[K     |████████████████████████████▋   | 665 kB 7.3 MB/s eta 0:00:01\r\u001b[K     |█████████████████████████████   | 675 kB 7.3 MB/s eta 0:00:01\r\u001b[K     |█████████████████████████████▌  | 686 kB 7.3 MB/s eta 0:00:01\r\u001b[K     |██████████████████████████████  | 696 kB 7.3 MB/s eta 0:00:01\r\u001b[K     |██████████████████████████████▍ | 706 kB 7.3 MB/s eta 0:00:01\r\u001b[K     |██████████████████████████████▊ | 716 kB 7.3 MB/s eta 0:00:01\r\u001b[K     |███████████████████████████████▏| 727 kB 7.3 MB/s eta 0:00:01\r\u001b[K     |███████████████████████████████▋| 737 kB 7.3 MB/s eta 0:00:01\r\u001b[K     |████████████████████████████████| 745 kB 7.3 MB/s \n",
            "\u001b[?25h  Building wheel for pyngrok (setup.py) ... \u001b[?25l\u001b[?25hdone\n",
            "\u001b[K     |████████████████████████████████| 3.6 MB 7.6 MB/s \n",
            "\u001b[?25h"
          ]
        }
      ]
    },
    {
      "cell_type": "code",
      "source": [
        "import numpy as np\n",
        "import pandas as pd\n",
        "import pickle"
      ],
      "metadata": {
        "id": "XcDTACtOk3FI"
      },
      "execution_count": 2,
      "outputs": []
    },
    {
      "cell_type": "code",
      "source": [
        "from PIL import Image"
      ],
      "metadata": {
        "id": "sTwmn97-NMBS"
      },
      "execution_count": 4,
      "outputs": []
    },
    {
      "cell_type": "code",
      "source": [
        "!ngrok authtoken 2DuMIKDe8UeMDDlpeFLJBIUdVqr_5emTu7w6p4Wy3ThCVEpPB"
      ],
      "metadata": {
        "colab": {
          "base_uri": "https://localhost:8080/"
        },
        "id": "NnNZjMhSRnnZ",
        "outputId": "31da084e-b6d7-46d3-a076-3ae38f4f4cc4"
      },
      "execution_count": 5,
      "outputs": [
        {
          "output_type": "stream",
          "name": "stdout",
          "text": [
            "Authtoken saved to configuration file: /root/.ngrok2/ngrok.yml\n"
          ]
        }
      ]
    },
    {
      "cell_type": "code",
      "source": [
        "%%writefile app.py\n",
        " \n",
        "import pickle\n",
        "import streamlit as st\n",
        " \n",
        "# loading the trained model\n",
        "pickle_in = open('modely.pkl', 'rb') \n",
        "classifier = pickle.load(pickle_in)\n",
        " \n",
        "@st.cache()\n",
        "  \n",
        "# defining the function which will make the prediction using the data which the user inputs \n",
        "def prediction(quarter, department, team, targeted_productivity, std_minute_value, work_in_progress, over_time, incentive, idle_men, no_of_workers):   \n",
        "\n",
        "    # Pre-processing user input    \n",
        "    if department == 'sewing':\n",
        "        department = 0\n",
        "    else:\n",
        "        department = 1\n",
        " \n",
        "    # Making predictions \n",
        "    prediction = classifier.predict( \n",
        "        [[quarter, department, team, targeted_productivity, std_minute_value, work_in_progress, over_time, incentive, idle_men, no_of_workers]])\n",
        "     \n",
        "    return prediction\n",
        "\n",
        "# this is the main function in which we define our webpage  \n",
        "def main():       \n",
        "    # front end elements of the web page \n",
        "    # html_temp = \"\"\" \n",
        "    # <div style =\"background-color:yellow;padding:13px\"> \n",
        "    # <h1 style =\"color:black;text-align:center;\">Garment Factory Productivity Prediction ML App</h1> \n",
        "    # </div> \n",
        "    # \"\"\"\n",
        "    st.title('Garment Factory Productivity Prediction ML App')\n",
        "    st.markdown('A model that can predict the level of productivity of employee teams in the garment industry.')\n",
        "    st.header('Productivity Variables')\n",
        "    col1, col2 = st.columns(2)\n",
        "\n",
        "\n",
        "    # display the front end aspect\n",
        "    # st.markdown(html_temp, unsafe_allow_html = True) \n",
        "      \n",
        "    # following lines create boxes in which user can enter data required to make prediction \n",
        "    with col1:\n",
        "        department = st.selectbox('Department',('sewing','finishing'))\n",
        "        quarter = st.number_input('Month Quarter', min_value = 1, step = 1, max_value = 4)\n",
        "        team = st.number_input('Team Number', min_value = 1, step = 1, max_value = 12)\n",
        "        targeted_productivity = st.number_input('Targeted Productivity', min_value = 0.00,  max_value = 10.00, step = 0.01)\n",
        "        std_minute_value = st.number_input('Standard Minute Value', min_value = 0.00, step = 0.01)\n",
        "    \n",
        "    with col2:\n",
        "        work_in_progress = st.number_input('Work In Progress', min_value = 0.00, step = 0.01)\n",
        "        over_time = st.number_input('Over Time', min_value = 0, step = 1)\n",
        "        incentive = st.number_input('Incentive', min_value = 0.00, step = 0.01)\n",
        "        idle_men = st.number_input('Idle Men', min_value = 0, step = 1)\n",
        "        no_of_workers = st.number_input('Number of Workers', min_value = 0, step = 1)\n",
        "\n",
        "    result =\"\"\n",
        "      \n",
        "    # when 'Predict' is clicked, make the prediction and store it \n",
        "    if st.button(\"Predict Productivity\"): \n",
        "        result = prediction(quarter, department, team, targeted_productivity, std_minute_value, work_in_progress, over_time, incentive, idle_men, no_of_workers) \n",
        "        st.success('Your predicted productivity is {}'.format(result))\n",
        "     \n",
        "if __name__=='__main__': \n",
        "    main()            "
      ],
      "metadata": {
        "colab": {
          "base_uri": "https://localhost:8080/"
        },
        "id": "Aqq-tYL5Q8YN",
        "outputId": "2a09bba3-d773-4d63-b8cd-cc1e657c4101"
      },
      "execution_count": 6,
      "outputs": [
        {
          "output_type": "stream",
          "name": "stdout",
          "text": [
            "Writing app.py\n"
          ]
        }
      ]
    },
    {
      "cell_type": "code",
      "source": [
        "from pyngrok import ngrok\n",
        "# Setup a tunnel to the streamlit port 8501\n",
        "public_url = ngrok.connect(port='8501')\n",
        "public_url"
      ],
      "metadata": {
        "colab": {
          "base_uri": "https://localhost:8080/"
        },
        "id": "0mW9tsiPQ8Uz",
        "outputId": "79623dbf-66e1-4173-8c01-8f98e1987da6"
      },
      "execution_count": 7,
      "outputs": [
        {
          "output_type": "stream",
          "name": "stderr",
          "text": [
            "INFO:pyngrok.ngrok:Opening tunnel named: http-80-62b72711-a2ec-4cb7-87dd-47fae9eeb67f\n",
            "2022-08-28 02:46:42.780 INFO    pyngrok.ngrok: Opening tunnel named: http-80-62b72711-a2ec-4cb7-87dd-47fae9eeb67f\n",
            "INFO:pyngrok.process.ngrok:t=2022-08-28T02:46:42+0000 lvl=info msg=\"no configuration paths supplied\"\n",
            "2022-08-28 02:46:42.812 INFO    pyngrok.process.ngrok: t=2022-08-28T02:46:42+0000 lvl=info msg=\"no configuration paths supplied\"\n",
            "INFO:pyngrok.process.ngrok:t=2022-08-28T02:46:42+0000 lvl=info msg=\"using configuration at default config path\" path=/root/.ngrok2/ngrok.yml\n",
            "2022-08-28 02:46:42.818 INFO    pyngrok.process.ngrok: t=2022-08-28T02:46:42+0000 lvl=info msg=\"using configuration at default config path\" path=/root/.ngrok2/ngrok.yml\n",
            "INFO:pyngrok.process.ngrok:t=2022-08-28T02:46:42+0000 lvl=info msg=\"open config file\" path=/root/.ngrok2/ngrok.yml err=nil\n",
            "2022-08-28 02:46:42.831 INFO    pyngrok.process.ngrok: t=2022-08-28T02:46:42+0000 lvl=info msg=\"open config file\" path=/root/.ngrok2/ngrok.yml err=nil\n",
            "INFO:pyngrok.process.ngrok:t=2022-08-28T02:46:42+0000 lvl=info msg=\"starting web service\" obj=web addr=127.0.0.1:4040\n",
            "2022-08-28 02:46:42.838 INFO    pyngrok.process.ngrok: t=2022-08-28T02:46:42+0000 lvl=info msg=\"starting web service\" obj=web addr=127.0.0.1:4040\n",
            "INFO:pyngrok.process.ngrok:t=2022-08-28T02:46:43+0000 lvl=info msg=\"tunnel session started\" obj=tunnels.session\n",
            "2022-08-28 02:46:43.065 INFO    pyngrok.process.ngrok: t=2022-08-28T02:46:43+0000 lvl=info msg=\"tunnel session started\" obj=tunnels.session\n",
            "INFO:pyngrok.process.ngrok:t=2022-08-28T02:46:43+0000 lvl=info msg=\"client session established\" obj=csess id=449cf8d58dc7\n",
            "2022-08-28 02:46:43.069 INFO    pyngrok.process.ngrok: t=2022-08-28T02:46:43+0000 lvl=info msg=\"client session established\" obj=csess id=449cf8d58dc7\n",
            "INFO:pyngrok.process.ngrok:t=2022-08-28T02:46:43+0000 lvl=info msg=start pg=/api/tunnels id=14ee0a921ad2212d\n",
            "2022-08-28 02:46:43.085 INFO    pyngrok.process.ngrok: t=2022-08-28T02:46:43+0000 lvl=info msg=start pg=/api/tunnels id=14ee0a921ad2212d\n",
            "INFO:pyngrok.process.ngrok:t=2022-08-28T02:46:43+0000 lvl=info msg=end pg=/api/tunnels id=14ee0a921ad2212d status=200 dur=448.83µs\n",
            "2022-08-28 02:46:43.090 INFO    pyngrok.process.ngrok: t=2022-08-28T02:46:43+0000 lvl=info msg=end pg=/api/tunnels id=14ee0a921ad2212d status=200 dur=448.83µs\n",
            "INFO:pyngrok.process.ngrok:t=2022-08-28T02:46:43+0000 lvl=info msg=start pg=/api/tunnels id=054fbf9c6b98c62d\n",
            "2022-08-28 02:46:43.094 INFO    pyngrok.process.ngrok: t=2022-08-28T02:46:43+0000 lvl=info msg=start pg=/api/tunnels id=054fbf9c6b98c62d\n",
            "INFO:pyngrok.process.ngrok:t=2022-08-28T02:46:43+0000 lvl=info msg=end pg=/api/tunnels id=054fbf9c6b98c62d status=200 dur=158.734µs\n",
            "2022-08-28 02:46:43.099 INFO    pyngrok.process.ngrok: t=2022-08-28T02:46:43+0000 lvl=info msg=end pg=/api/tunnels id=054fbf9c6b98c62d status=200 dur=158.734µs\n",
            "INFO:pyngrok.process.ngrok:t=2022-08-28T02:46:43+0000 lvl=info msg=start pg=/api/tunnels id=a695c41d9c5fdcda\n",
            "2022-08-28 02:46:43.107 INFO    pyngrok.process.ngrok: t=2022-08-28T02:46:43+0000 lvl=info msg=start pg=/api/tunnels id=a695c41d9c5fdcda\n",
            "INFO:pyngrok.process.ngrok:t=2022-08-28T02:46:43+0000 lvl=info msg=\"started tunnel\" obj=tunnels name=\"http-80-62b72711-a2ec-4cb7-87dd-47fae9eeb67f (http)\" addr=http://localhost:80 url=http://bd8e-34-105-88-19.ngrok.io\n",
            "2022-08-28 02:46:43.254 INFO    pyngrok.process.ngrok: t=2022-08-28T02:46:43+0000 lvl=info msg=\"started tunnel\" obj=tunnels name=\"http-80-62b72711-a2ec-4cb7-87dd-47fae9eeb67f (http)\" addr=http://localhost:80 url=http://bd8e-34-105-88-19.ngrok.io\n",
            "INFO:pyngrok.process.ngrok:t=2022-08-28T02:46:43+0000 lvl=info msg=\"started tunnel\" obj=tunnels name=http-80-62b72711-a2ec-4cb7-87dd-47fae9eeb67f addr=http://localhost:80 url=https://bd8e-34-105-88-19.ngrok.io\n",
            "2022-08-28 02:46:43.260 INFO    pyngrok.process.ngrok: t=2022-08-28T02:46:43+0000 lvl=info msg=\"started tunnel\" obj=tunnels name=http-80-62b72711-a2ec-4cb7-87dd-47fae9eeb67f addr=http://localhost:80 url=https://bd8e-34-105-88-19.ngrok.io\n",
            "INFO:pyngrok.process.ngrok:t=2022-08-28T02:46:43+0000 lvl=info msg=end pg=/api/tunnels id=a695c41d9c5fdcda status=201 dur=167.311269ms\n"
          ]
        },
        {
          "output_type": "execute_result",
          "data": {
            "text/plain": [
              "<NgrokTunnel: \"http://bd8e-34-105-88-19.ngrok.io\" -> \"http://localhost:80\">"
            ]
          },
          "metadata": {},
          "execution_count": 7
        },
        {
          "output_type": "stream",
          "name": "stderr",
          "text": [
            "2022-08-28 02:46:43.265 INFO    pyngrok.process.ngrok: t=2022-08-28T02:46:43+0000 lvl=info msg=end pg=/api/tunnels id=a695c41d9c5fdcda status=201 dur=167.311269ms\n",
            "INFO:pyngrok.process.ngrok:t=2022-08-28T02:46:43+0000 lvl=info msg=start pg=\"/api/tunnels/http-80-62b72711-a2ec-4cb7-87dd-47fae9eeb67f (http)\" id=5f4e88d16ff6d49d\n",
            "2022-08-28 02:46:43.270 INFO    pyngrok.process.ngrok: t=2022-08-28T02:46:43+0000 lvl=info msg=start pg=\"/api/tunnels/http-80-62b72711-a2ec-4cb7-87dd-47fae9eeb67f (http)\" id=5f4e88d16ff6d49d\n",
            "INFO:pyngrok.process.ngrok:t=2022-08-28T02:46:43+0000 lvl=info msg=end pg=\"/api/tunnels/http-80-62b72711-a2ec-4cb7-87dd-47fae9eeb67f (http)\" id=5f4e88d16ff6d49d status=200 dur=260.253µs\n",
            "2022-08-28 02:46:43.274 INFO    pyngrok.process.ngrok: t=2022-08-28T02:46:43+0000 lvl=info msg=end pg=\"/api/tunnels/http-80-62b72711-a2ec-4cb7-87dd-47fae9eeb67f (http)\" id=5f4e88d16ff6d49d status=200 dur=260.253µs\n"
          ]
        }
      ]
    },
    {
      "cell_type": "code",
      "source": [
        "!streamlit run --server.port 80 app.py >/dev/null\n"
      ],
      "metadata": {
        "colab": {
          "base_uri": "https://localhost:8080/"
        },
        "id": "QuIToRabQ8Rc",
        "outputId": "f8190cc6-90e6-4eb1-d388-4deb7de4a665"
      },
      "execution_count": null,
      "outputs": [
        {
          "output_type": "stream",
          "name": "stdout",
          "text": [
            "2022-08-28 02:47:02.155 INFO    numexpr.utils: NumExpr defaulting to 2 threads.\n"
          ]
        }
      ]
    }
  ]
}